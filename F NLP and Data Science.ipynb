{
 "cells": [
  {
   "cell_type": "markdown",
   "metadata": {},
   "source": [
    "# [CPSC 222](https://github.com/GonzagaCPSC222) Intro to Data Science\n",
    "[Gonzaga University](https://www.gonzaga.edu/)\n",
    "\n",
    "[Gina Sprint](http://cs.gonzaga.edu/faculty/sprint/)\n",
    "\n",
    "# NLP and Data Science\n",
    "What are our learning objectives for this lesson?\n",
    "* Clean text to prepare for analyses\n",
    "* Visualize word frequencies with bar charts and word clouds\n",
    "* Compute and interpret Readability statistics\n",
    "* Perform named entity recognition\n",
    "* Calculate document similarity\n",
    "\n",
    "Content used in this lesson is based upon information in the following sources:\n",
    "* Intro to Python for Computer Science and Data Science by Deitel and Deitel"
   ]
  },
  {
   "cell_type": "markdown",
   "metadata": {},
   "source": [
    "## Warm-up Task(s)\n",
    "1. Please go to Zagweb and complete the course evaluation for this class\n",
    "    * I would greatly appreciate a 100% response rate from all of you!!\n",
    "1. Go to our Project folder on Google Drive\n",
    "    * Open the EDITABLE Project Presentation Schedule and add two links\n",
    "        1. Your Github repo (add gsprint23 if it is private and in your own account)\n",
    "        1. Your report Jupyter Notebook (which should be included in the Github repo, I just want the link so I can open them all in order on presentation day... this is what you will present)\n",
    "1. If you are interested in using natural language processing (NLP) for your project...\n",
    "    * Instructions for installing NLP libraries is in https://github.com/GonzagaCPSC222/U7-Machine-Learning-NLP/blob/master/E%20Intro%20to%20Natural%20Language%20Processing.ipynb\n",
    "        * Note: some of these libraries do not run on new Macs, so I have to run them on Google Colab\n",
    "    * Download to your machine OR open the YelpReviewsPUBLIC.ipynb Notebook with **Google Colab** in the [222 Google Drive Folder](https://drive.google.com/drive/u/0/folders/1QXosDkeIf4Hnpzw03lR0hpZa3WmbbbUo)\n",
    "    * Create an account on Yelp Developer: https://www.yelp.com/developers and get an API key\n",
    "        * Paste your key in the `api_key` variable in your YelpReviewsPUBLIC.ipynb on Colab\n",
    "        * Read about Yelp's Fusion API: https://www.yelp.com/developers/documentation/v3"
   ]
  },
  {
   "cell_type": "markdown",
   "metadata": {},
   "source": [
    "## Today\n",
    "* Announcements\n",
    "    * Office hours next week: Monday and Tuesday 9:30am-11:30am\n",
    "    * Final project Github repo is due Tuesday at midnight\n",
    "        * Turn it in via the EDITABLE Project Presentation Schedule on Github\n",
    "* Today\n",
    "    * Course evaluations\n",
    "    * Next class: Project presentations\n",
    "        * See the Project Presentation Schedule for the schedule and deliverables (github repo link and report Jupyter Notebook link)\n",
    "        * TBD\n",
    "    * Confusion matrices\n",
    "    * Final exam review"
   ]
  },
  {
   "cell_type": "markdown",
   "metadata": {},
   "source": [
    "## Text Cleaning\n",
    "* Applying common string operations, like converting all the text to lower case\n",
    "* Fixing misspelled words\n",
    "* Performing normalization using stemming, lemmatization, inflection, etc.\n",
    "* Handling contractions\n",
    "* Removing stop words"
   ]
  },
  {
   "cell_type": "markdown",
   "metadata": {},
   "source": [
    "## Stop Words\n",
    "A stop word is a common word in text that is often removed from text before analyzing because they typically do not provide useful information (e.g. \"a\", \"the\", \"you\", etc.)"
   ]
  },
  {
   "cell_type": "code",
   "execution_count": 1,
   "metadata": {},
   "outputs": [
    {
     "name": "stderr",
     "output_type": "stream",
     "text": [
      "[nltk_data] Downloading package stopwords to\n",
      "[nltk_data]     /Users/sprint/nltk_data...\n",
      "[nltk_data]   Package stopwords is already up-to-date!\n"
     ]
    }
   ],
   "source": [
    "import nltk\n",
    "from nltk.corpus import stopwords\n",
    "\n",
    "nltk.download(\"stopwords\")\n",
    "stops = stopwords.words(\"english\")"
   ]
  },
  {
   "cell_type": "code",
   "execution_count": 2,
   "metadata": {},
   "outputs": [
    {
     "name": "stdout",
     "output_type": "stream",
     "text": [
      "['computer', 'science', 'program', 'gonzaga', 'prepares', 'students', 'careers', 'graduate', 'study', 'practice', 'science', 'computing', 'program', 'built', 'broad', 'rigorous', 'foundation', 'science', 'mathematics', 'software', 'engineering', 'advanced', 'computer', 'science', 'topics']\n"
     ]
    }
   ],
   "source": [
    "from textblob import TextBlob\n",
    "\n",
    "# remove stop words\n",
    "gu_cs_text = \"The Computer Science program at Gonzaga prepares students for careers and graduate study in the practice and science of computing. The program is built on a broad and rigorous foundation of science, mathematics, software engineering, and advanced computer science topics.\"\n",
    "blob = TextBlob(gu_cs_text.lower())\n",
    "no_stops_cs_text = []\n",
    "for word in blob.words:\n",
    "    if word not in stops:\n",
    "        no_stops_cs_text.append(word)\n",
    "print(no_stops_cs_text)"
   ]
  },
  {
   "cell_type": "markdown",
   "metadata": {},
   "source": [
    "## Visualizing Word Frequencies\n",
    "Word frequencies are typically visualied with bar charts and word clouds\n",
    "\n",
    "### Bar Charts"
   ]
  },
  {
   "cell_type": "code",
   "execution_count": 3,
   "metadata": {},
   "outputs": [
    {
     "name": "stdout",
     "output_type": "stream",
     "text": [
      "['computer', 'science', 'program', 'gonzaga', 'prepare', 'student', 'career', 'graduate', 'study', 'practice', 'science', 'computing', 'program', 'built', 'broad', 'rigorou', 'foundation', 'science', 'mathematics', 'software', 'engineering', 'advanced', 'computer', 'science', 'topic']\n"
     ]
    },
    {
     "data": {
      "text/plain": [
       "<Figure size 640x480 with 1 Axes>"
      ]
     },
     "metadata": {},
     "output_type": "display_data"
    }
   ],
   "source": [
    "import matplotlib.pyplot as plt\n",
    "from matplotlib import cm\n",
    "import pandas as pd\n",
    "\n",
    "# word frequencies demo\n",
    "# clean first \n",
    "blob = TextBlob(gu_cs_text.lower())\n",
    "cleaned_cs_text = []\n",
    "for word in blob.words:\n",
    "    # remove stop words and contractions\n",
    "    if word not in stops and \"'\" not in word:\n",
    "        # get roots of words\n",
    "        word = word.singularize()\n",
    "        word = word.lemmatize()\n",
    "        cleaned_cs_text.append(word)\n",
    "print(cleaned_cs_text)\n",
    "cleaned_blob = TextBlob(\" \".join(cleaned_cs_text))\n",
    "counts_ser = pd.Series(cleaned_blob.word_counts)\n",
    "counts_ser = counts_ser.sort_values(ascending=False)\n",
    "\n",
    "viridis = cm.get_cmap(\"viridis\", len(counts_ser))\n",
    "plt.bar(counts_ser.index, counts_ser, color=viridis.colors[::-1])\n",
    "plt.xticks(rotation=45, horizontalalignment=\"right\")\n",
    "plt.show()"
   ]
  },
  {
   "cell_type": "markdown",
   "metadata": {},
   "source": [
    "### Word Clouds\n",
    "This solution uses the `wordcloud` module which is built on top of `matplotlib`. Words that appear more frequently in the text show up in a word cloud in a larger font size.\n",
    "* Note: `wordcloud` removes stop words before generating the word cloud"
   ]
  },
  {
   "cell_type": "code",
   "execution_count": 4,
   "metadata": {},
   "outputs": [
    {
     "data": {
      "image/png": "[encoded data removed]",
      "text/plain": [
       "<Figure size 432x288 with 1 Axes>"
      ]
     },
     "metadata": {
      "needs_background": "light"
     },
     "output_type": "display_data"
    }
   ],
   "source": [
    "from wordcloud import WordCloud\n",
    "plt.figure()\n",
    "wordcloud = WordCloud(colormap=\"prism\", background_color=\"white\")\n",
    "wordcloud = wordcloud.generate(gu_cs_text)\n",
    "# write to file\n",
    "#wordcloud.to_file(\"wordcloud.png\")\n",
    "# plot with matplotlib\n",
    "plt.imshow(wordcloud)\n",
    "plt.show()"
   ]
  },
  {
   "cell_type": "markdown",
   "metadata": {},
   "source": [
    "## Readability Assessment w/Textatistic\n",
    "Text readability is affected by the vocabulary used, sentence structure, sentence length, topic, etc. There are many formulas for assessing readability:\n",
    "* char_count: number of characters in the text\n",
    "* word_count: number of words in the text\n",
    "* sent_count: number of sentences in the text\n",
    "* sybl_count: number of syllables in the text\n",
    "* notdalechall_count: count of words that are not on the Dale-Chall list (list of words understood by 80% of 5th graders); higher this number is compared to the total word count, the less readable the text is considered to be\n",
    "* polysyblword_count: number of words with three or more syllables\n",
    "* flesch_score: Flesch Reading Ease score, which can be mapped to a grade level (scores > 90 are readable by 5th graders; scores < 30 require a college degree)\n",
    "* fleschkincaid_score: Flesch-Kincaid score, which corresponds to a specific grade level\n",
    "* gunningfog_score: Gunning Fog index value, which corresponds to a specific grade level\n",
    "* smog_score: Simple Measure of Gobbledygook (SMOG), which corresponds to the years of education requried to understand text\n",
    "* dalechall_score: Dale-Chall score, which can be mapped to grade levels from 4 and below to college graduate (grade 16) and above\n",
    "    * Note: this score is considered to be most reliable for a broad range of text types"
   ]
  },
  {
   "cell_type": "code",
   "execution_count": 5,
   "metadata": {},
   "outputs": [
    {
     "name": "stdout",
     "output_type": "stream",
     "text": [
      "char_count : 232\n",
      "word_count : 40\n",
      "sent_count : 2\n",
      "sybl_count : 69\n",
      "notdalechall_count : 20\n",
      "polysyblword_count : 6\n",
      "flesch_score : 40.60000000000002\n",
      "fleschkincaid_score : 12.565000000000005\n",
      "gunningfog_score : 14.0\n",
      "smog_score : 13.023866798666859\n",
      "dalechall_score : 12.523499999999999\n",
      "\n",
      "Average number of words per sentence: 20.0\n",
      "Average characters per word: 5.8\n",
      "Average syllables per word: 1.725\n"
     ]
    }
   ],
   "source": [
    "from textatistic import Textatistic\n",
    "\n",
    "readability = Textatistic(gu_cs_text)\n",
    "for stat, value in readability.dict().items():\n",
    "    print(stat, \":\", value) \n",
    "print()\n",
    "\n",
    "# calculate the average number of words per sentence, characters per word, and syllables per word\n",
    "print(\"Average number of words per sentence:\", readability.word_count / readability.sent_count)\n",
    "print(\"Average characters per word:\", readability.char_count / readability.word_count)\n",
    "print(\"Average syllables per word:\", readability.sybl_count / readability.word_count)"
   ]
  },
  {
   "cell_type": "markdown",
   "metadata": {},
   "source": [
    "## Named Entity Recognition w/spaCy\n",
    "Named entity recognition attempts to locate and categorize items like dates, times, quantities, places, people, things, organizations, etc.\n",
    "* See https://spacy.io/api/annotation#named-entities for a list of spaCy's named entities"
   ]
  },
  {
   "cell_type": "code",
   "execution_count": 6,
   "metadata": {},
   "outputs": [
    {
     "name": "stdout",
     "output_type": "stream",
     "text": [
      "Gonzaga -> GPE\n",
      "Paul J. Deitel -> PERSON\n",
      "Deitel & Associates, Inc. -> ORG\n"
     ]
    }
   ],
   "source": [
    "import spacy\n",
    "\n",
    "nlp = spacy.load(\"en\")\n",
    "document = nlp(gu_cs_text)\n",
    "\n",
    "for entity in document.ents:\n",
    "    print(entity.text, \"->\", entity.label_)\n",
    "# GPE is countries, cities, states\n",
    "\n",
    "# display the named entities in \"Paul J. Deitel is CEO of Deitel & Associates, Inc.\"\n",
    "document = nlp(\"Paul J. Deitel is CEO of Deitel & Associates, Inc.\")\n",
    "for entity in document.ents:\n",
    "    print(entity.text, \"->\", entity.label_)\n",
    "# ORG is organization"
   ]
  },
  {
   "cell_type": "markdown",
   "metadata": {},
   "source": [
    "## Similarity Detection w/spaCy\n",
    "Similarity detection is the process of analyzing documents to determine how alike they are, e.g. based on word frequencies, writing style, etc."
   ]
  },
  {
   "cell_type": "code",
   "execution_count": 7,
   "metadata": {},
   "outputs": [
    {
     "name": "stdout",
     "output_type": "stream",
     "text": [
      "0.922103052979811\n"
     ]
    },
    {
     "name": "stderr",
     "output_type": "stream",
     "text": [
      "/Users/sprint/opt/anaconda3/lib/python3.7/runpy.py:193: ModelsWarning: [W007] The model you're using has no word vectors loaded, so the result of the Doc.similarity method will be based on the tagger, parser and NER, which may not give useful similarity judgements. This may happen if you're using one of the small models, e.g. `en_core_web_sm`, which don't ship with word vectors and only use context-sensitive tensors. You can always add your own word vectors, or use one of the larger models instead if available.\n",
      "  \"__main__\", mod_spec)\n"
     ]
    }
   ],
   "source": [
    "from pathlib import Path\n",
    "\n",
    "# download text from project gutenberg\n",
    "# remove header of text about project\n",
    "doc1 = nlp(Path(\"files/romeojuliet.txt\").read_text()) # http://www.gutenberg.org/cache/epub/1112/pg1112.txt\n",
    "doc2 = nlp(Path(\"files/edwardthesecond.txt\").read_text()) # http://www.gutenberg.org/cache/epub/20288/pg20288.txt\n",
    "# similarity returns a value from 0.0 (not similar) to 1.0 (identical) indicating\n",
    "# how similar the documents are\n",
    "print(doc1.similarity(doc2))"
   ]
  },
  {
   "cell_type": "markdown",
   "metadata": {},
   "source": [
    "Note: the above warning can be fixed by downloading a larger model with word vectors. See the [spaCy documentation](https://spacy.io/usage/vectors-similarity) for more information."
   ]
  }
 ],
 "metadata": {
  "kernelspec": {
   "display_name": "Python 3 (ipykernel)",
   "language": "python",
   "name": "python3"
  },
  "language_info": {
   "codemirror_mode": {
    "name": "ipython",
    "version": 3
   },
   "file_extension": ".py",
   "mimetype": "text/x-python",
   "name": "python",
   "nbconvert_exporter": "python",
   "pygments_lexer": "ipython3",
   "version": "3.9.7"
  }
 },
 "nbformat": 4,
 "nbformat_minor": 4
}
