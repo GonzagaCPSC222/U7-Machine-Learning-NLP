{
 "cells": [
  {
   "cell_type": "code",
   "execution_count": 1,
   "metadata": {},
   "outputs": [
    {
     "name": "stdout",
     "output_type": "stream",
     "text": [
      "   height(cm)  weight(kg) t-shirt size\n",
      "0         158          58            M\n",
      "1         163          61            M\n",
      "2         165          61            L\n",
      "3         168          66            L\n"
     ]
    }
   ],
   "source": [
    "import pandas as pd\n",
    "\n",
    "df = pd.read_csv(\"shirts.csv\")\n",
    "print(df)"
   ]
  },
  {
   "cell_type": "markdown",
   "metadata": {},
   "source": [
    "# Intro to Machine Learning\n",
    "* Supervised machine learning: labeled data (i.e., the dataset has an attribute we are interested in predicting for unseen instances)\n",
    "    * The attribute we want to predict is called the *class* or the *target*\n",
    "    * If the class is categorical -> classification task\n",
    "    * If the class is numeric -> regression task\n",
    "    * Example algorithm: k nearest neighbors (kNN) classifier and regressor\n",
    "* Unsupervised machine learning: unlabeled data (i.e., the dataset does not have an attribute we are interested in predicting)\n",
    "    * E.g., clustering/grouping, associations, outliers/anomalies, trends, etc.\n",
    "    * Example algorithm: k means clustering\n",
    "\n",
    "## Supervised ML\n",
    "* We need to divide a dataset into *training* and *testing* sets\n",
    "    * We train/build an algorithm/model using a training set\n",
    "    * We evaluate the algorithm/model using a testing set\n",
    "    * The training and testing sets are *different*"
   ]
  },
  {
   "cell_type": "markdown",
   "metadata": {},
   "source": [
    "## kNN Example w/Sci-kit Learn"
   ]
  },
  {
   "cell_type": "code",
   "execution_count": 2,
   "metadata": {},
   "outputs": [
    {
     "name": "stdout",
     "output_type": "stream",
     "text": [
      "   height(cm)  weight(kg)\n",
      "0         158          58\n",
      "1         163          61\n",
      "2         165          61\n",
      "3         168          66\n",
      "0    M\n",
      "1    M\n",
      "2    L\n",
      "3    L\n",
      "Name: t-shirt size, dtype: object\n"
     ]
    }
   ],
   "source": [
    "# notation/convention of sci-kit learn API\n",
    "# X: feature matrix (2D data structure)\n",
    "# rows are instances and columns are attributes/features\n",
    "# y: class column (1D data structure)\n",
    "# the attribute/feature we want to predict\n",
    "# AKA target array, target vector, labels, etc.\n",
    "# _train and _test are used to denote training and testing sets, respectively\n",
    "X_train = df.drop([\"t-shirt size\"], axis=\"columns\")\n",
    "y_train = df[\"t-shirt size\"]\n",
    "print(X_train)\n",
    "print(y_train)"
   ]
  },
  {
   "cell_type": "code",
   "execution_count": 3,
   "metadata": {},
   "outputs": [
    {
     "name": "stdout",
     "output_type": "stream",
     "text": [
      "[[0.    0.   ]\n",
      " [0.5   0.375]\n",
      " [0.7   0.375]\n",
      " [1.    1.   ]]\n",
      "[[0.3   0.625]]\n"
     ]
    }
   ],
   "source": [
    "# let's scale our feature values\n",
    "from sklearn.preprocessing import MinMaxScaler\n",
    "\n",
    "scaler = MinMaxScaler()\n",
    "# typically combine fit() transform() calls fit_transform()\n",
    "scaler.fit(X_train)\n",
    "X_train_scaled = scaler.transform(X_train)\n",
    "print(X_train_scaled)\n",
    "X_test = [[161, 63]] #2D\n",
    "X_test_scaled = scaler.transform(X_test)\n",
    "print(X_test_scaled)"
   ]
  },
  {
   "cell_type": "code",
   "execution_count": 4,
   "metadata": {},
   "outputs": [
    {
     "name": "stdout",
     "output_type": "stream",
     "text": [
      "['M']\n"
     ]
    },
    {
     "name": "stderr",
     "output_type": "stream",
     "text": [
      "/Users/sprint/opt/anaconda3/lib/python3.9/site-packages/sklearn/neighbors/_classification.py:211: FutureWarning: Unlike other reduction functions (e.g. `skew`, `kurtosis`), the default behavior of `mode` typically preserves the axis it acts along. In SciPy 1.11.0, this behavior will change: the default value of `keepdims` will become False, the `axis` over which the statistic is taken will be eliminated, and the value None will no longer be accepted. Set `keepdims` to True or False to avoid this warning.\n",
      "  mode, _ = stats.mode(_y[neigh_ind, k], axis=1)\n"
     ]
    }
   ],
   "source": [
    "# now for kNN!\n",
    "from sklearn.neighbors import KNeighborsClassifier\n",
    "\n",
    "knn_clf = KNeighborsClassifier(n_neighbors=3, metric=\"euclidean\")\n",
    "# build/train\n",
    "knn_clf.fit(X_train_scaled, y_train)\n",
    "# predict\n",
    "y_predicted = knn_clf.predict(X_test_scaled)\n",
    "print(y_predicted)\n",
    "# challenge: can you print out the neighbor distances?\n",
    "# read the docs: https://scikit-learn.org/stable/modules/generated/sklearn.neighbors.KNeighborsClassifier.html"
   ]
  },
  {
   "cell_type": "markdown",
   "metadata": {},
   "source": [
    "## Closing Thoughts on kNN\n",
    "TODO"
   ]
  }
 ],
 "metadata": {
  "kernelspec": {
   "display_name": "base",
   "language": "python",
   "name": "python3"
  },
  "language_info": {
   "codemirror_mode": {
    "name": "ipython",
    "version": 3
   },
   "file_extension": ".py",
   "mimetype": "text/x-python",
   "name": "python",
   "nbconvert_exporter": "python",
   "pygments_lexer": "ipython3",
   "version": "3.9.7"
  }
 },
 "nbformat": 4,
 "nbformat_minor": 2
}
