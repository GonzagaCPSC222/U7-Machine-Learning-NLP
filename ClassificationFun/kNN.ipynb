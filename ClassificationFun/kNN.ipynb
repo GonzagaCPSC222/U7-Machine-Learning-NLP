{
 "cells": [
  {
   "cell_type": "code",
   "execution_count": null,
   "metadata": {},
   "outputs": [
    {
     "name": "stdout",
     "output_type": "stream",
     "text": [
      "   height(cm)  weight(kg) t-shirt size\n",
      "0         158          58            M\n",
      "1         163          61            M\n",
      "2         165          61            L\n",
      "3         168          66            L\n"
     ]
    }
   ],
   "source": [
    "import pandas as pd\n",
    "\n",
    "df = pd.read_csv(\"shirts.csv\")\n",
    "print(df)"
   ]
  },
  {
   "cell_type": "markdown",
   "metadata": {},
   "source": [
    "# Intro to Machine Learning\n",
    "* Supervised machine learning: labeled data (i.e., the dataset has an attribute we are interested in predicting for unseen instances)\n",
    "    * The attribute we want to predict is called the *class* or the *target*\n",
    "    * If the class is categorical -> classification task\n",
    "    * If the class is numeric -> regression task\n",
    "    * Example algorithm: k nearest neighbors (kNN) classifier and regressor\n",
    "* Unsupervised machine learning: unlabeled data (i.e., the dataset does not have an attribute we are interested in predicting)\n",
    "    * E.g., clustering/grouping, associations, outliers/anomalies, trends, etc.\n",
    "    * Example algorithm: k means clustering\n",
    "\n",
    "## Supervised ML\n",
    "* We need to divide a dataset into *training* and *testing* sets\n",
    "    * We train/build an algorithm/model using a training set\n",
    "    * We evaluate the algorithm/model using a testing set\n",
    "    * The training and testing sets are *different*"
   ]
  }
 ],
 "metadata": {
  "kernelspec": {
   "display_name": "base",
   "language": "python",
   "name": "python3"
  },
  "language_info": {
   "codemirror_mode": {
    "name": "ipython",
    "version": 3
   },
   "file_extension": ".py",
   "mimetype": "text/x-python",
   "name": "python",
   "nbconvert_exporter": "python",
   "pygments_lexer": "ipython3",
   "version": "3.9.7"
  }
 },
 "nbformat": 4,
 "nbformat_minor": 2
}
