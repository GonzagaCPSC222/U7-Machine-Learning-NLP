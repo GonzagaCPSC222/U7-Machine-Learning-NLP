{
 "cells": [
  {
   "cell_type": "markdown",
   "metadata": {},
   "source": [
    "# [CPSC 222](https://github.com/GonzagaCPSC222) Intro to Data Science\n",
    "[Gonzaga University](https://www.gonzaga.edu/)\n",
    "\n",
    "[Gina Sprint](http://cs.gonzaga.edu/faculty/sprint/)\n",
    "\n",
    "# Closing Thoughts\n",
    "What are our learning objectives for this lesson?\n",
    "* Discuss important issues in data science, including different types of bias\n",
    "\n",
    "Content used in this lesson is based upon information in the following sources:\n",
    "* [CMotions](https://cmotions.nl/en/5-typen-bias-data-analytics/)"
   ]
  },
  {
   "cell_type": "markdown",
   "metadata": {},
   "source": [
    "## Warm-up Task(s)\n",
    "1. Go to our Project folder on Google Drive\n",
    "1. Open the EDITABLE Project Presentation Schedule and add two links\n",
    "    1. Your Github repo (add gsprint23 if it is private and in your own account)\n",
    "    1. Your poster slide (make public sharing please or add gsprint23@gmail.com)\n",
    "\n",
    "## Today\n",
    "* Announcements\n",
    "    * Final project Github repo is due Thursday night\n",
    "        * Turn it in via the EDITABLE Project Presentation Schedule on Github\n",
    "    * Office hours next week: Monday and Tuesday (see Schedule on GDrive)\n",
    "* Final exam review\n",
    "* IQ10\n",
    "* Mid-project check-ins\n",
    "* Next class: Project presentations!"
   ]
  },
  {
   "cell_type": "markdown",
   "metadata": {},
   "source": [
    "## Issues in Data Science\n",
    "While we have covered several ethical concerns in this class throughout the data assignments, there are several issues we have not covered yet (some that aren't related to ethics at all). Consider the following:\n",
    "* There is always going to be a new data science tool, library, or programming language to learn\n",
    "    * A career in data science means a career of lifelong learning\n",
    "    * Stay relevant, but don't jump on fads too early. Wait until a new piece of tech gets first party support (e.g. big companies use it, it becomes an industry standard, etc.) before investing too much time learning it\n",
    "* More data does not always mean better results\n",
    "    * Lots of data creates \"Data Paralysis\" (like analysis paralysis)\n",
    "     * Consider what part (AKA data silo) of the big picture your data represents\n",
    "    * Data gets old fast... the time it takes to clean data may make your analysis out of date by the time you get to it\n",
    "* **Always be cognizant of when the data you are analyzing comes from people**\n",
    "    * People are complex and cannot be reduced to a data trail\n",
    "    * There are risks inherently associated with collecting and storing user data\n",
    "        * Sometimes there are non obvious features (or combinations of features) that are PII (personally identifiable information)\n",
    "* Bias, bias, bias"
   ]
  },
  {
   "cell_type": "markdown",
   "metadata": {},
   "source": [
    "## Types of Bias Data Scientist Should be Aware of\n",
    "\n",
    "\"It is a capital mistake to theorize before one has data. Insensibly one begins to twist facts to suit theories, instead of theories to suit facts.\"\n",
    "-Sherlock Holmes (Arthur Conan Doyle)\n",
    "\n",
    "The following text is taken from [CMotions 5 Types of Bias in Data and Analytics](https://cmotions.nl/en/5-typen-bias-data-analytics/)\n",
    "\n",
    ">The chief cause of making the wrong decisions is what we call ‘bias’. Bias is taken to mean interference in the outcomes of research by predetermined ideas, prejudice or influence in a certain direction. Data can be biased but so can the people who analyse the data. When data is biased, we mean that the sample is not representative of the entire population. For example, drawing conclusions for the entire population of the Netherlands based on research into 10 students (the sample). When people who analyse data are biased, this means they want the outcomes of their analysis to go in a certain direction in advance."
   ]
  },
  {
   "cell_type": "markdown",
   "metadata": {},
   "source": [
    "### 1. Confirmation Bias\n",
    "When you analyze data looking to prove a predetermined assumption (think hypothesis).\n",
    "\n",
    "<img src=\"https://davidwees.com/sites/default/files/educational_research_0.png\" width=\"400\"/>\n",
    "\n",
    "(image from https://davidwees.com/content/confirmation-bias-cycle/)"
   ]
  },
  {
   "cell_type": "markdown",
   "metadata": {},
   "source": [
    "### 2. Selection Bias\n",
    "When observations are sampled subjectively, and therefore the sample is not representative of the population.\n",
    "\n",
    "<img src=\"https://www.researchgate.net/profile/Jens_Hainmueller/publication/308362194/figure/fig1/AS:540796692725765@1505947387742/Double-Selection-Bias.png\" width=\"400\"/>\n",
    "\n",
    "(image from https://www.researchgate.net/figure/Double-Selection-Bias_fig1_308362194)"
   ]
  },
  {
   "cell_type": "markdown",
   "metadata": {},
   "source": [
    "### 3. Outliers\n",
    "When outliers are so extreme (and not acknowledged/handled) that they lead to false and/or misleading analysis and results. The median is often a more appropriate measure of central tendency because \"the average is nobody\" (e.g. the median represents an actual value in the dataset, the average doesn't always).\n",
    "\n",
    "<img src=\"https://miro.medium.com/max/1000/1*O3lOgPwuHP7Vfc1T6NDRrQ.png\" width=\"400\"/>\n",
    "\n",
    "(image from https://medium.com/analytics-vidhya/its-all-about-outliers-cbe172aa1309)"
   ]
  },
  {
   "cell_type": "markdown",
   "metadata": {},
   "source": [
    "### 4. Underfitting vs. Overfitting and Bias/Variance\n",
    "When a model \"overfits\" the training data, it is said to have **high variance** (think of a really tall decision tree that classifies every instance in the training set perfectly, but then fails to generalize to the test set). When a model \"underfits\" the training data, it is said to have **high bias** (think of a really short decision tree that fails to capture the complexity of what it is suppose to model).\n",
    "\n",
    "![](https://miro.medium.com/max/2100/1*9hPX9pAO3jqLrzt0IE3JzA.png)\n",
    "\n",
    "(image from https://towardsdatascience.com/understanding-the-bias-variance-tradeoff-165e6942b229)"
   ]
  },
  {
   "cell_type": "markdown",
   "metadata": {},
   "source": [
    "### 5. Confounding Variabelen Bias\n",
    "When you conclude there is a cause-effect relationship between two variables without considering that there is another \"confounding\" variable behind the phenomenon. Remember when we talked about correlation and how \"correlation does not imply causation\"? Here it is again in a more general format.\n",
    "\n",
    "![](https://www.explainxkcd.com/wiki/images/9/9c/correlation.png)\n",
    "\n",
    "(image from https://www.explainxkcd.com/wiki/index.php/552:_Correlation)"
   ]
  },
  {
   "cell_type": "markdown",
   "metadata": {},
   "source": [
    "### 6. Knowledge Bias (AKA Curse of Knowledge)\n",
    "When someone unknowingly assumes that others they are communicating with have the background to understand.\n",
    "<img src=\"https://cmotions.nl/wp-content/uploads/2017/01/Data-PPT.png\" width=\"400\"/>\n",
    "\n",
    "(image from https://cmotions.nl/en/5-typen-bias-data-analytics/)"
   ]
  },
  {
   "cell_type": "markdown",
   "metadata": {},
   "source": [
    "## That's It!!\n",
    "I hope you learned alot in this class about data science and had fun at the same time. Have a great winter break everyone and work on some fun side projects with Python, data, and APIs :)\n",
    "\n",
    "Note: if you have any feedback about the course, I'd love to hear it. I'm always trying to improve."
   ]
  }
 ],
 "metadata": {
  "kernelspec": {
   "display_name": "Python 3 (ipykernel)",
   "language": "python",
   "name": "python3"
  },
  "language_info": {
   "codemirror_mode": {
    "name": "ipython",
    "version": 3
   },
   "file_extension": ".py",
   "mimetype": "text/x-python",
   "name": "python",
   "nbconvert_exporter": "python",
   "pygments_lexer": "ipython3",
   "version": "3.9.7"
  }
 },
 "nbformat": 4,
 "nbformat_minor": 4
}
